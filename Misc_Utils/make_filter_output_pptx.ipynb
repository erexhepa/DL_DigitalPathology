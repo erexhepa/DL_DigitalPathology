{
 "cells": [
  {
   "cell_type": "code",
   "execution_count": null,
   "metadata": {
    "collapsed": false
   },
   "outputs": [],
   "source": [
    "import numpy as np\n",
    "import matplotlib.pyplot as plt\n",
    "%matplotlib inline\n",
    "import Image\n",
    "import scipy\n",
    "import time\n",
    "\n",
    "from pptx import Presentation\n",
    "from pptx.util import Inches\n",
    "\n",
    "# Make sure that caffe is on the python path:\n",
    "caffe_root = '/home/axj232/caffe/' \n",
    "import sys\n",
    "sys.path.insert(0, caffe_root + 'python')\n",
    "\n",
    "import caffe\n",
    "\n",
    "prs = Presentation()\n",
    "blank_slide_layout = prs.slide_layouts[6]\n",
    "left = top = Inches(1)\n",
    "height = Inches(5.5)\n",
    "\n",
    "\n",
    "\n",
    "# configure plotting\n",
    "plt.rcParams['figure.figsize'] = (10, 10)\n",
    "plt.rcParams['image.interpolation'] = 'nearest'\n",
    "plt.rcParams['image.cmap'] = 'gray'"
   ]
  },
  {
   "cell_type": "code",
   "execution_count": null,
   "metadata": {
    "collapsed": true
   },
   "outputs": [],
   "source": [
    "def make_image(data,outputname):\n",
    "    fig = plt.figure()\n",
    "    #fig.set_size_inches(5, 5)\n",
    "    ax = plt.Axes(fig, [0., 0., 1., 1.])\n",
    "    ax.set_axis_off()\n",
    "    fig.add_axes(ax)\n",
    "    plt.set_cmap('jet')\n",
    "    ax.imshow(data, aspect = 'normal')\n",
    "    plt.savefig(outputname)"
   ]
  },
  {
   "cell_type": "code",
   "execution_count": null,
   "metadata": {
    "collapsed": false
   },
   "outputs": [],
   "source": [
    "#load our fully convolutional network \n",
    "net_full_conv = caffe.Net('deploy_full.prototxt', \n",
    "                          'full_convolutional_net.caffemodel', caffe.TEST)"
   ]
  },
  {
   "cell_type": "code",
   "execution_count": null,
   "metadata": {
    "collapsed": false,
    "scrolled": true
   },
   "outputs": [],
   "source": [
    "#load our mean file and get it into the right shape\n",
    "transformer = caffe.io.Transformer({'data': net_full_conv.blobs['data'].data.shape})\n",
    "\n",
    "a = caffe.io.caffe_pb2.BlobProto()\n",
    "file = open('DB_train.binaryproto','rb')\n",
    "data = file.read()\n",
    "a.ParseFromString(data)\n",
    "means = a.data\n",
    "means = np.asarray(means)\n",
    "means = means.reshape(3, 32, 32)\n",
    "\n",
    "\n",
    "transformer.set_mean('data',means.mean(1).mean(1))\n",
    "transformer.set_transpose('data', (2,0,1))\n",
    "transformer.set_channel_swap('data', (2,1,0))\n",
    "transformer.set_raw_scale('data', 255.0)"
   ]
  },
  {
   "cell_type": "code",
   "execution_count": null,
   "metadata": {
    "collapsed": true
   },
   "outputs": [],
   "source": [
    "#set the mode to use the GPU\n",
    "caffe.set_device(0)\n",
    "caffe.set_mode_gpu()"
   ]
  },
  {
   "cell_type": "code",
   "execution_count": null,
   "metadata": {
    "collapsed": false
   },
   "outputs": [],
   "source": [
    "fname='./images/34077_H-E_0_fal_4_0.png'\n",
    "im_orig = caffe.io.load_image(fname)\n",
    "slide = prs.slides.add_slide(blank_slide_layout)\n",
    "pic = slide.shapes.add_picture(fname, left, top, height=height)\n",
    "\n",
    "nrow_in=im_orig.shape[0] #we'll be doing padding later, \n",
    "ncol_in=im_orig.shape[1] #so lets make sure we know the original size\n",
    "\n",
    "#IMPORTANT: note here that the shape is 2000 x 2000, which is the same size \n",
    "#as we specified in our deploy_full text!"
   ]
  },
  {
   "cell_type": "code",
   "execution_count": null,
   "metadata": {
    "collapsed": false
   },
   "outputs": [],
   "source": [
    "#patch_size = 32 #the patch size that trained the network\n",
    "#hpatch_size = patch_size / 2 #this is the size of the edges around the image\n",
    "\n",
    "\n",
    "#im_orig = np.lib.pad(im_orig, ((hpatch_size, hpatch_size+displace_factor), \\\n",
    "#                               (hpatch_size, hpatch_size+displace_factor), \\\n",
    "#                               (0, 0)),  'symmetric')\n",
    "\n",
    "print im_orig.shape "
   ]
  },
  {
   "cell_type": "code",
   "execution_count": null,
   "metadata": {
    "collapsed": true
   },
   "outputs": [],
   "source": [
    "out = net_full_conv.forward_all(data=np.asarray([transformer.preprocess('data', im_orig)]))"
   ]
  },
  {
   "cell_type": "code",
   "execution_count": null,
   "metadata": {
    "collapsed": false
   },
   "outputs": [],
   "source": [
    "layer=\"norm1\"\n",
    "\n",
    "for fi in xrange(0,32):\n",
    "    print fi\n",
    "    make_image(net_full_conv.blobs[layer].data[0, fi],\"test.png\")\n",
    "    slide = prs.slides.add_slide(blank_slide_layout)\n",
    "    pic = slide.shapes.add_picture(\"test.png\", left, top, height=height)\n",
    "    "
   ]
  },
  {
   "cell_type": "code",
   "execution_count": null,
   "metadata": {
    "collapsed": false
   },
   "outputs": [],
   "source": [
    "prs.save('test.pptx')"
   ]
  },
  {
   "cell_type": "code",
   "execution_count": null,
   "metadata": {
    "collapsed": false
   },
   "outputs": [],
   "source": [
    "net_full_conv.blobs"
   ]
  },
  {
   "cell_type": "code",
   "execution_count": null,
   "metadata": {
    "collapsed": false
   },
   "outputs": [],
   "source": []
  },
  {
   "cell_type": "code",
   "execution_count": null,
   "metadata": {
    "collapsed": true
   },
   "outputs": [],
   "source": []
  },
  {
   "cell_type": "code",
   "execution_count": null,
   "metadata": {
    "collapsed": false
   },
   "outputs": [],
   "source": []
  },
  {
   "cell_type": "code",
   "execution_count": null,
   "metadata": {
    "collapsed": true
   },
   "outputs": [],
   "source": []
  }
 ],
 "metadata": {
  "kernelspec": {
   "display_name": "Python 2",
   "language": "python",
   "name": "python2"
  },
  "language_info": {
   "codemirror_mode": {
    "name": "ipython",
    "version": 2
   },
   "file_extension": ".py",
   "mimetype": "text/x-python",
   "name": "python",
   "nbconvert_exporter": "python",
   "pygments_lexer": "ipython2",
   "version": "2.7.9"
  }
 },
 "nbformat": 4,
 "nbformat_minor": 0
}
