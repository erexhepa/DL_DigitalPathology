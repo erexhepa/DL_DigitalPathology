{
 "cells": [
  {
   "cell_type": "code",
   "execution_count": 54,
   "metadata": {
    "collapsed": true
   },
   "outputs": [],
   "source": [
    "from scipy.io import arff \n",
    "from cStringIO import StringIO\n",
    "import os\n",
    "import sys\n",
    "import fileinput\n",
    "import pandas as pd\n",
    "import numpy as np\n",
    "from sklearn.ensemble import RandomForestClassifier\n",
    "import arff as arffwrite\n",
    "import fnmatch\n",
    "import os\n",
    "\n",
    "import json\n",
    "from pprint import pprint\n",
    "\n",
    "wekapath  = \"/Applications/weka-3-8-0/weka.jar\"\n",
    "datapath  = \"/Users/ERexhepa\"\n",
    "outputdir =  \"/Users/ERexhepa/simdir\"\n",
    "rawfname  = \"bmreducedwithFullMRRNAFullclinical.csv.arff\"\n",
    "folderClassificationOutput = \"/Users/ERexhepa/Downloads/slidesFolder\"\n",
    "classLabel1 = 'NData'\n",
    "classLabel2 = 'BData'\n",
    "thresholdClass1 = 80"
   ]
  },
  {
   "cell_type": "code",
   "execution_count": 72,
   "metadata": {
    "collapsed": false
   },
   "outputs": [],
   "source": [
    "matches = []\n",
    "for root, dirnames, filenames in os.walk(folderClassificationOutput):\n",
    "    for filename in fnmatch.filter(filenames, '*.txt'):\n",
    "        matches.append(os.path.join(root, filename))\n",
    "# print matches\n",
    "\n",
    "studyResults = pd.DataFrame([],columns={'PatientID','FrameIDRow','FrameIDCol','Class1','Class2'})\n",
    "frameResults = pd.DataFrame([['PatientID',0,0, 0, 0]],columns={'PatientID','FrameIDRow','FrameIDCol','Class1','Class2'})"
   ]
  },
  {
   "cell_type": "code",
   "execution_count": 73,
   "metadata": {
    "collapsed": false
   },
   "outputs": [],
   "source": [
    "for framesIDs in matches:\n",
    "    with open(matches[0]) as data_file:    \n",
    "        data = json.load(data_file)\n",
    "\n",
    "        for fileID in (data['classifications']).keys():\n",
    "            fileIDParsed = fileID.split('/')\n",
    "            slideID = fileIDParsed[6]\n",
    "            snapshotIDParsed = fileIDParsed[8].split('_')\n",
    "            row = int(snapshotIDParsed[0])\n",
    "            col = int(snapshotIDParsed[1])\n",
    "\n",
    "            predictionCell = data['classifications'][fileID][0]\n",
    "            #print predictionCell[1]\n",
    "\n",
    "            frameResults['PatientID'].iloc[0] = slideID\n",
    "            frameResults['FrameIDRow'].iloc[0] = row\n",
    "            frameResults['FrameIDCol'].iloc[0] = col\n",
    "\n",
    "            if((predictionCell[0]==classLabel2) & (predictionCell[1]>=thresholdClass1)):\n",
    "                frameResults['Class2'].iloc[0] = frameResults['Class2'].iloc[0] + 1\n",
    "            else:\n",
    "                frameResults['Class1'].iloc[0] = frameResults['Class1'].iloc[0] + 1\n",
    "\n",
    "    studyResultsTmp = [studyResults,frameResults]\n",
    "    studyResults = pd.concat(studyResultsTmp)\n",
    "    frameResults = pd.DataFrame([['PatientID',0,0, 0, 0]],columns={'PatientID','FrameIDRow','FrameIDCol','Class1','Class2'})"
   ]
  },
  {
   "cell_type": "code",
   "execution_count": 74,
   "metadata": {
    "collapsed": false
   },
   "outputs": [
    {
     "data": {
      "text/html": [
       "<div>\n",
       "<table border=\"1\" class=\"dataframe\">\n",
       "  <thead>\n",
       "    <tr style=\"text-align: right;\">\n",
       "      <th></th>\n",
       "      <th>FrameIDCol</th>\n",
       "      <th>Class2</th>\n",
       "      <th>PatientID</th>\n",
       "      <th>FrameIDRow</th>\n",
       "      <th>Class1</th>\n",
       "    </tr>\n",
       "  </thead>\n",
       "  <tbody>\n",
       "    <tr>\n",
       "      <th>0</th>\n",
       "      <td>35</td>\n",
       "      <td>25.0</td>\n",
       "      <td>E5820BKA_HE_files</td>\n",
       "      <td>4.0</td>\n",
       "      <td>88.0</td>\n",
       "    </tr>\n",
       "    <tr>\n",
       "      <th>0</th>\n",
       "      <td>35</td>\n",
       "      <td>25.0</td>\n",
       "      <td>E5820BKA_HE_files</td>\n",
       "      <td>4.0</td>\n",
       "      <td>88.0</td>\n",
       "    </tr>\n",
       "    <tr>\n",
       "      <th>0</th>\n",
       "      <td>35</td>\n",
       "      <td>25.0</td>\n",
       "      <td>E5820BKA_HE_files</td>\n",
       "      <td>4.0</td>\n",
       "      <td>88.0</td>\n",
       "    </tr>\n",
       "  </tbody>\n",
       "</table>\n",
       "</div>"
      ],
      "text/plain": [
       "  FrameIDCol  Class2          PatientID  FrameIDRow  Class1\n",
       "0         35    25.0  E5820BKA_HE_files         4.0    88.0\n",
       "0         35    25.0  E5820BKA_HE_files         4.0    88.0\n",
       "0         35    25.0  E5820BKA_HE_files         4.0    88.0"
      ]
     },
     "execution_count": 74,
     "metadata": {},
     "output_type": "execute_result"
    }
   ],
   "source": [
    "studyResults"
   ]
  },
  {
   "cell_type": "code",
   "execution_count": 61,
   "metadata": {
    "collapsed": false
   },
   "outputs": [
    {
     "name": "stderr",
     "output_type": "stream",
     "text": [
      "/Users/ERexhepa/anaconda/lib/python2.7/site-packages/pandas/core/indexing.py:132: SettingWithCopyWarning: \n",
      "A value is trying to be set on a copy of a slice from a DataFrame\n",
      "\n",
      "See the caveats in the documentation: http://pandas.pydata.org/pandas-docs/stable/indexing.html#indexing-view-versus-copy\n",
      "  self._setitem_with_indexer(indexer, value)\n"
     ]
    },
    {
     "data": {
      "text/html": [
       "<div>\n",
       "<table border=\"1\" class=\"dataframe\">\n",
       "  <thead>\n",
       "    <tr style=\"text-align: right;\">\n",
       "      <th></th>\n",
       "      <th>FrameIDCol</th>\n",
       "      <th>Class2</th>\n",
       "      <th>PatientID</th>\n",
       "      <th>FrameIDRow</th>\n",
       "      <th>Class1</th>\n",
       "    </tr>\n",
       "  </thead>\n",
       "  <tbody>\n",
       "    <tr>\n",
       "      <th>0</th>\n",
       "      <td>35</td>\n",
       "      <td>25</td>\n",
       "      <td>E5820BKA_HE_files</td>\n",
       "      <td>4</td>\n",
       "      <td>88</td>\n",
       "    </tr>\n",
       "  </tbody>\n",
       "</table>\n",
       "</div>"
      ],
      "text/plain": [
       "  FrameIDCol  Class2          PatientID  FrameIDRow  Class1\n",
       "0         35      25  E5820BKA_HE_files           4      88"
      ]
     },
     "execution_count": 61,
     "metadata": {},
     "output_type": "execute_result"
    }
   ],
   "source": [
    "for fileID in (data['classifications']).keys():\n",
    "    fileIDParsed = fileID.split('/')\n",
    "    slideID = fileIDParsed[6]\n",
    "    snapshotIDParsed = fileIDParsed[8].split('_')\n",
    "    row = int(snapshotIDParsed[0])\n",
    "    col = int(snapshotIDParsed[1])\n",
    "    \n",
    "    predictionCell = data['classifications'][fileID][0]\n",
    "    #print predictionCell[1]\n",
    "    \n",
    "    frameResults['PatientID'].iloc[0] = slideID\n",
    "    frameResults['FrameIDRow'].iloc[0] = row\n",
    "    frameResults['FrameIDCol'].iloc[0] = col\n",
    "    \n",
    "    if((predictionCell[0]==classLabel2) & (predictionCell[1]>=thresholdClass1)):\n",
    "        frameResults['Class2'].iloc[0] = frameResults['Class2'].iloc[0] + 1\n",
    "    else:\n",
    "        frameResults['Class1'].iloc[0] = frameResults['Class1'].iloc[0] + 1\n",
    "\n",
    "frameResults"
   ]
  }
 ],
 "metadata": {
  "anaconda-cloud": {},
  "kernelspec": {
   "display_name": "Python [conda root]",
   "language": "python",
   "name": "conda-root-py"
  },
  "language_info": {
   "codemirror_mode": {
    "name": "ipython",
    "version": 2
   },
   "file_extension": ".py",
   "mimetype": "text/x-python",
   "name": "python",
   "nbconvert_exporter": "python",
   "pygments_lexer": "ipython2",
   "version": "2.7.12"
  }
 },
 "nbformat": 4,
 "nbformat_minor": 1
}
